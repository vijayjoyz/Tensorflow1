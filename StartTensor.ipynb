{
  "nbformat": 4,
  "nbformat_minor": 0,
  "metadata": {
    "colab": {
      "name": "StartTensor.ipynb",
      "version": "0.3.2",
      "provenance": [],
      "include_colab_link": true
    },
    "kernelspec": {
      "name": "python3",
      "display_name": "Python 3"
    }
  },
  "cells": [
    {
      "cell_type": "markdown",
      "metadata": {
        "id": "view-in-github",
        "colab_type": "text"
      },
      "source": [
        "<a href=\"https://colab.research.google.com/github/vijayjoyz/Tensorflow1/blob/master/StartTensor.ipynb\" target=\"_parent\"><img src=\"https://colab.research.google.com/assets/colab-badge.svg\" alt=\"Open In Colab\"/></a>"
      ]
    },
    {
      "cell_type": "code",
      "metadata": {
        "id": "K3OiJXpXmetl",
        "colab_type": "code",
        "colab": {
          "base_uri": "https://localhost:8080/",
          "height": 447
        },
        "outputId": "f3033cfb-f9aa-4b8d-9c4b-2c8c99b57c1b"
      },
      "source": [
        "import tensorflow as tf\n",
        "import numpy as np\n",
        "\n",
        "#Setting up the training data\n",
        "celsius_q    = np.array([-40, -10,  0,  8, 15, 22,  38],  dtype=float)\n",
        "fahrenheit_a = np.array([-40,  14, 32, 46, 59, 72, 100],  dtype=float)\n",
        "\n",
        "#Just Printing the input\n",
        "for i,c in enumerate(celsius_q):\n",
        "    print(\"{} degree Celsius = {} Degree Fahrenheit\".format(c,fahrenheit_a[i]))\n",
        "#Building the model\n",
        "a = tf.keras.layers.Dense(units=1,input_shape=[1])\n",
        "#Assemble layer into the model\n",
        "model = tf.keras.Sequential([a])\n",
        "\n",
        "#Another way of doing the the above two lines of code\n",
        "'''model = tf.keras.Sequential([\n",
        "    tf.keras.layer.Dense(units=1,input_shape=[1])\n",
        "])'''\n",
        "#Complie the model,with loss and optimizer functions\n",
        "model.compile(loss='mean_squared_error',optimizer=tf.keras.optimizers.Adam(0.1))\n",
        "\n",
        "#Train the model\n",
        "history = model.fit(celsius_q,fahrenheit_a,epochs=500,verbose=False)\n",
        "print(\"Training is completed\")\n",
        "\n",
        "import matplotlib.pyplot as plt\n",
        "plt.xlabel('Epoch')\n",
        "plt.ylabel('Loss Magnitude')\n",
        "plt.plot(history.history['loss'])"
      ],
      "execution_count": 4,
      "outputs": [
        {
          "output_type": "stream",
          "text": [
            "-40.0 degree Celsius = -40.0 Degree Fahrenheit\n",
            "-10.0 degree Celsius = 14.0 Degree Fahrenheit\n",
            "0.0 degree Celsius = 32.0 Degree Fahrenheit\n",
            "8.0 degree Celsius = 46.0 Degree Fahrenheit\n",
            "15.0 degree Celsius = 59.0 Degree Fahrenheit\n",
            "22.0 degree Celsius = 72.0 Degree Fahrenheit\n",
            "38.0 degree Celsius = 100.0 Degree Fahrenheit\n",
            "Training is completed\n"
          ],
          "name": "stdout"
        },
        {
          "output_type": "execute_result",
          "data": {
            "text/plain": [
              "[<matplotlib.lines.Line2D at 0x7f8f847dc860>]"
            ]
          },
          "metadata": {
            "tags": []
          },
          "execution_count": 4
        },
        {
          "output_type": "display_data",
          "data": {
            "image/png": "[encoded data removed]",
            "text/plain": [
              "<Figure size 432x288 with 1 Axes>"
            ]
          },
          "metadata": {
            "tags": []
          }
        }
      ]
    },
    {
      "cell_type": "code",
      "metadata": {
        "id": "y2CHFkL5tBHg",
        "colab_type": "code",
        "colab": {
          "base_uri": "https://localhost:8080/",
          "height": 35
        },
        "outputId": "88707bea-b485-4b13-9a6c-d25f425e2a02"
      },
      "source": [
        "#Predict the values using the above models\n",
        "print(model.predict([100.0]))"
      ],
      "execution_count": 6,
      "outputs": [
        {
          "output_type": "stream",
          "text": [
            "[[211.33835]]\n"
          ],
          "name": "stdout"
        }
      ]
    },
    {
      "cell_type": "code",
      "metadata": {
        "id": "wJLhiNF9tMsG",
        "colab_type": "code",
        "colab": {
          "base_uri": "https://localhost:8080/",
          "height": 35
        },
        "outputId": "7be341a1-0751-4b7c-ef0b-41af00760a65"
      },
      "source": [
        "#Getting the weights\n",
        "print(\"The weights value are:{}\".format(a.get_weights()))"
      ],
      "execution_count": 5,
      "outputs": [
        {
          "output_type": "stream",
          "text": [
            "The weights value are:[array([[1.8203261]], dtype=float32), array([29.305744], dtype=float32)]\n"
          ],
          "name": "stdout"
        }
      ]
    }
  ]
}